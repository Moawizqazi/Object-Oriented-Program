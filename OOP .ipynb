{
 "cells": [
  {
   "cell_type": "markdown",
   "metadata": {
    "id": "6BKP_pwW30pF"
   },
   "source": [
    "# OOP \n",
    "* class\n",
    "* Construction\n",
    "  * always call when we create new object\n",
    "  * Old programming language = class and function always be same\n",
    "  * python def __init__\n",
    "  * def __init__(self,arg1,arg2)\n",
    "    * first argument must be ingore when we will call it\n",
    "      * self,this,any_name=abc,xyz,edf\n",
    "      * always connect methods and attributes with indiviual object\n",
    "* Object/Instance\n",
    "* methods(function)/behaviour\n",
    "* attributes/properties/chracterstics/fields\n",
    "  * always under __init__ method\n",
    "  * self.attribute_name\n",
    "* class variable\n",
    "\n",
    "## Inheritance\n",
    "## Polymorphism\n",
    "## Encapsulation\n",
    "## Abstraction"
   ]
  },
  {
   "cell_type": "markdown",
   "metadata": {},
   "source": [
    "# Class Attribute"
   ]
  },
  {
   "cell_type": "code",
   "execution_count": 1,
   "metadata": {},
   "outputs": [
    {
     "name": "stdout",
     "output_type": "stream",
     "text": [
      "25\n"
     ]
    }
   ],
   "source": [
    "class Number():\n",
    "    def sum(self):\n",
    "        return self.a + self.b\n",
    "\n",
    "num = Number()\n",
    "num.a = 12\n",
    "num.b = 13\n",
    "s = num.sum()\n",
    "print(s)"
   ]
  },
  {
   "cell_type": "code",
   "execution_count": 3,
   "metadata": {},
   "outputs": [
    {
     "data": {
      "text/plain": [
       "'Youtube'"
      ]
     },
     "execution_count": 3,
     "metadata": {},
     "output_type": "execute_result"
    }
   ],
   "source": [
    "class Employee():\n",
    "    company = \"Google\"#company is attribute\n",
    "    firm = \"Youtube\"\n",
    "    \n",
    "moawiz = Employee()\n",
    "ahmed = Employee()\n",
    "print(moawiz.company)\n",
    "ahmed.firm)"
   ]
  },
  {
   "cell_type": "code",
   "execution_count": 6,
   "metadata": {},
   "outputs": [
    {
     "name": "stdout",
     "output_type": "stream",
     "text": [
      "Google\n",
      "100\n"
     ]
    }
   ],
   "source": [
    "class Employee():\n",
    "    company = \"Google\"#company is attribute\n",
    "    salary = 100\n",
    "    \n",
    "moawiz = Employee()\n",
    "ahmed = Employee()\n",
    "print(moawiz.company)\n",
    "print(ahmed.salary)"
   ]
  },
  {
   "cell_type": "code",
   "execution_count": 8,
   "metadata": {},
   "outputs": [
    {
     "name": "stdout",
     "output_type": "stream",
     "text": [
      "Google\n",
      "200\n"
     ]
    }
   ],
   "source": [
    "class Employee():\n",
    "    company = \"Google\"#company is attribute\n",
    "    salary = 100\n",
    "    \n",
    "moawiz = Employee()\n",
    "ahmed = Employee()\n",
    "print(moawiz.company)\n",
    "# print(ahmed.salary)\n",
    "ahmed.salary = 200 # instance attribute\n",
    "print(ahmed.salary)"
   ]
  },
  {
   "cell_type": "code",
   "execution_count": 18,
   "metadata": {},
   "outputs": [
    {
     "name": "stdout",
     "output_type": "stream",
     "text": [
      "Salary is 100k\n",
      "salary Of Moawiz is 100000 and working in Google\n"
     ]
    }
   ],
   "source": [
    "class Employee():\n",
    "    company = \"Google\"#company is attribute\n",
    "    \n",
    "    def getSalary(self):\n",
    "        print(\"Salary is 100k\")\n",
    "        print(f\"salary Of Moawiz is {self.salary} and working in {self.company}\")\n",
    "\n",
    "moawiz = Employee()\n",
    "moawiz.salary= 100000\n",
    "# Employee.getSalary(moawiz)\n",
    "moawiz.getSalary()"
   ]
  },
  {
   "cell_type": "markdown",
   "metadata": {},
   "source": [
    "# static Method"
   ]
  },
  {
   "cell_type": "code",
   "execution_count": 36,
   "metadata": {},
   "outputs": [
    {
     "name": "stdout",
     "output_type": "stream",
     "text": [
      "Salary is 100k\n",
      "salary Of Moawiz is 100000 and working in Google\n",
      "Hello Moawiz\n"
     ]
    }
   ],
   "source": [
    "class Employee():\n",
    "    company = \"Google\"#company is attribute\n",
    "    \n",
    "    def getSalary(self):\n",
    "        print(\"Salary is 100k\")\n",
    "        print(f\"salary Of Moawiz is {self.salary} and working in {self.company}\")\n",
    "        \n",
    "    \n",
    "        \n",
    "    @staticmethod\n",
    "    def greet():\n",
    "        print(\"Hello Moawiz\")\n",
    "        \n",
    "moawiz = Employee()\n",
    "moawiz.salary= 100000\n",
    "# Employee.getSalary(moawiz)\n",
    "moawiz.getSalary()\n",
    "moawiz.greet()"
   ]
  },
  {
   "cell_type": "markdown",
   "metadata": {},
   "source": [
    "# Constructor"
   ]
  },
  {
   "cell_type": "code",
   "execution_count": 38,
   "metadata": {},
   "outputs": [
    {
     "data": {
      "text/plain": [
       "'youtube'"
      ]
     },
     "execution_count": 38,
     "metadata": {},
     "output_type": "execute_result"
    }
   ],
   "source": [
    "class Employee():\n",
    "    company = \"Google\"#company is attribute\n",
    "    \n",
    "    def __init__(self,name,company):\n",
    "        self.name = name\n",
    "        self.company = company\n",
    "    \n",
    "moawiz = Employee(\"Moawiz\", \"youtube\")\n",
    "moawiz.name\n",
    "moawiz.company\n"
   ]
  },
  {
   "cell_type": "markdown",
   "metadata": {
    "id": "kgkoCzkz6bqW"
   },
   "source": [
    "# Linear Programming"
   ]
  },
  {
   "cell_type": "code",
   "execution_count": 2,
   "metadata": {
    "id": "V3uwQRtT3y5e"
   },
   "outputs": [],
   "source": [
    "qasim_name ='Muhammad Qasim'\n",
    "qasim_fname = \"Muhammad Aslam\"\n",
    "qasim_education = \"MSDS\"\n",
    "\n",
    "def qasim_speaking():pass\n",
    "def qasim_listing():pass\n",
    "def qasim_eating():pass\n",
    "\n",
    "\n",
    "asim_name ='Asim'\n",
    "asim_fname = \"Muhammad Ibad\"\n",
    "asim_education = \"MSDS\"\n",
    "\n",
    "def asim_speaking():pass\n",
    "def asim_listing():pass\n",
    "def asim_eating():pass\n"
   ]
  },
  {
   "cell_type": "markdown",
   "metadata": {
    "id": "bLRG-UVT6x_v"
   },
   "source": [
    "# OOP programing"
   ]
  },
  {
   "cell_type": "code",
   "execution_count": 9,
   "metadata": {
    "id": "45B0MKM66kIF"
   },
   "outputs": [],
   "source": [
    "class Student(): #class\n",
    "    def __init__(self,sid,sname):# constructor\n",
    "    self.id = sid # attribute\n",
    "    self.name = sname# attribute\n",
    "    self.fname = None# attribute\n",
    "    self.edcation = None# attribute\n",
    "\n",
    "    def speaking(self,message=None): # method\n",
    "        return message\n",
    "    \n",
    "    def listing(self): # method\n",
    "        return self.name + \"...\"\n",
    "\n",
    "    def eating(self,food): # method\n",
    "        return self.name + \" is eating \" + food\n",
    "\n",
    "\n",
    "\n"
   ]
  },
  {
   "cell_type": "code",
   "execution_count": 13,
   "metadata": {
    "id": "_D1lTgxZ6z6J"
   },
   "outputs": [],
   "source": [
    "s1 = Student(1,\"Muhammad Qasim\")\n",
    "s2 = Student(2,\"Asim\")\n",
    "s3 = Student(3,\"Asif Khan\")\n",
    "s4 = Student(4,\"Hamza\")\n",
    "s5 = Student(5,\"Konain\")"
   ]
  },
  {
   "cell_type": "code",
   "execution_count": 14,
   "metadata": {
    "colab": {
     "base_uri": "https://localhost:8080/"
    },
    "id": "ScDqJljr_wql",
    "outputId": "d30c933b-5b77-46b5-ed23-99e0834d8513"
   },
   "outputs": [
    {
     "name": "stdout",
     "output_type": "stream",
     "text": [
      "Muhammad Qasim\n",
      "Asim\n",
      "Asif Khan\n"
     ]
    }
   ],
   "source": [
    "print(s1.name)\n",
    "print(s2.name)\n",
    "print(s3.name)"
   ]
  },
  {
   "cell_type": "code",
   "execution_count": 17,
   "metadata": {
    "colab": {
     "base_uri": "https://localhost:8080/"
    },
    "id": "sVD605dQB1MC",
    "outputId": "3448ade3-4eb1-4dd3-c454-def50b115d46"
   },
   "outputs": [
    {
     "name": "stdout",
     "output_type": "stream",
     "text": [
      "Muhammad Qasim Aslam\n",
      "Muhammad Aslam\n",
      "MSDS\n"
     ]
    }
   ],
   "source": [
    "s1.name = \"Muhammad Qasim Aslam\"\n",
    "s1.fname = \"Muhammad Aslam\"\n",
    "s1.education = \"MSDS\"\n",
    "\n",
    "\n",
    "print(s1.name)\n",
    "print(s1.fname)\n",
    "print(s1.education)"
   ]
  },
  {
   "cell_type": "code",
   "execution_count": 18,
   "metadata": {
    "colab": {
     "base_uri": "https://localhost:8080/",
     "height": 36
    },
    "id": "S5uu1e4pCRzX",
    "outputId": "13c32fcc-6b27-4cf6-c212-1a9574e3801a"
   },
   "outputs": [
    {
     "data": {
      "application/vnd.google.colaboratory.intrinsic+json": {
       "type": "string"
      },
      "text/plain": [
       "'Muhammad Qasim Aslam is eating Tikka'"
      ]
     },
     "execution_count": 18,
     "metadata": {},
     "output_type": "execute_result"
    }
   ],
   "source": [
    "s1.eating(\"Tikka\")"
   ]
  },
  {
   "cell_type": "code",
   "execution_count": 19,
   "metadata": {
    "colab": {
     "base_uri": "https://localhost:8080/",
     "height": 36
    },
    "id": "EOEGKdYUCYGs",
    "outputId": "079bf11e-e066-48d8-898f-dc246a221199"
   },
   "outputs": [
    {
     "data": {
      "application/vnd.google.colaboratory.intrinsic+json": {
       "type": "string"
      },
      "text/plain": [
       "'Muhammad Qasim Aslam...'"
      ]
     },
     "execution_count": 19,
     "metadata": {},
     "output_type": "execute_result"
    }
   ],
   "source": [
    "s1.listing()"
   ]
  },
  {
   "cell_type": "code",
   "execution_count": 20,
   "metadata": {
    "colab": {
     "base_uri": "https://localhost:8080/",
     "height": 36
    },
    "id": "50eC-mpfCbai",
    "outputId": "aff34e0a-194c-44a8-fba1-bad092abead1"
   },
   "outputs": [
    {
     "data": {
      "application/vnd.google.colaboratory.intrinsic+json": {
       "type": "string"
      },
      "text/plain": [
       "'Pakistan zinda bad!'"
      ]
     },
     "execution_count": 20,
     "metadata": {},
     "output_type": "execute_result"
    }
   ],
   "source": [
    "s1.speaking(\"Pakistan zinda bad!\")"
   ]
  },
  {
   "cell_type": "code",
   "execution_count": 12,
   "metadata": {
    "colab": {
     "base_uri": "https://localhost:8080/",
     "height": 36
    },
    "id": "eTHCIBqy_wyW",
    "outputId": "c3951f1f-0352-48cf-d636-563e408c6daa"
   },
   "outputs": [
    {
     "data": {
      "application/vnd.google.colaboratory.intrinsic+json": {
       "type": "string"
      },
      "text/plain": [
       "'Asif Khan is eating Tikka'"
      ]
     },
     "execution_count": 12,
     "metadata": {},
     "output_type": "execute_result"
    }
   ],
   "source": [
    "s1.eating(\"Biryani\")\n",
    "s2.eating(\"Korma\")\n",
    "s3.eating(\"Tikka\")"
   ]
  },
  {
   "cell_type": "code",
   "execution_count": 5,
   "metadata": {
    "colab": {
     "base_uri": "https://localhost:8080/"
    },
    "id": "Kq_4aEwu_Zgb",
    "outputId": "acc54304-4f9c-4cc6-82ef-cf3f41217947"
   },
   "outputs": [
    {
     "data": {
      "text/plain": [
       "['__class__',\n",
       " '__delattr__',\n",
       " '__dict__',\n",
       " '__dir__',\n",
       " '__doc__',\n",
       " '__eq__',\n",
       " '__format__',\n",
       " '__ge__',\n",
       " '__getattribute__',\n",
       " '__gt__',\n",
       " '__hash__',\n",
       " '__init__',\n",
       " '__init_subclass__',\n",
       " '__le__',\n",
       " '__lt__',\n",
       " '__module__',\n",
       " '__ne__',\n",
       " '__new__',\n",
       " '__reduce__',\n",
       " '__reduce_ex__',\n",
       " '__repr__',\n",
       " '__setattr__',\n",
       " '__sizeof__',\n",
       " '__str__',\n",
       " '__subclasshook__',\n",
       " '__weakref__',\n",
       " 'eating',\n",
       " 'edcation',\n",
       " 'fname',\n",
       " 'id',\n",
       " 'listing',\n",
       " 'name',\n",
       " 'speaking']"
      ]
     },
     "execution_count": 5,
     "metadata": {},
     "output_type": "execute_result"
    }
   ],
   "source": [
    "dir(s1)"
   ]
  },
  {
   "cell_type": "markdown",
   "metadata": {
    "id": "W6NoY6C3EJUN"
   },
   "source": [
    "# Inheritance"
   ]
  },
  {
   "cell_type": "code",
   "execution_count": 53,
   "metadata": {},
   "outputs": [
    {
     "name": "stdout",
     "output_type": "stream",
     "text": [
      "This is an Employee\n",
      "This is programmer  python \n"
     ]
    }
   ],
   "source": [
    "class Employee():\n",
    "    company = \"Google\"#company is attribute\n",
    "    \n",
    "    def showDetail(self):\n",
    "        print(\"This is an Employee\")\n",
    "\n",
    "class programmer(Employee):\n",
    "    language = \"python\"\n",
    "    \n",
    "    def getLanguage(self):\n",
    "        print(f\"This is programmer  {self.language} \")\n",
    "        \n",
    "e=Employee()\n",
    "p=programmer()\n",
    "# e.showDetail()\n",
    "p.showDetail()\n",
    "p.getLanguage()\n",
    "        \n",
    "   \n"
   ]
  },
  {
   "cell_type": "code",
   "execution_count": null,
   "metadata": {},
   "outputs": [],
   "source": []
  },
  {
   "cell_type": "code",
   "execution_count": 21,
   "metadata": {
    "id": "R08KR_seELXN"
   },
   "outputs": [],
   "source": [
    "class Father():\n",
    "    def __init__(this):\n",
    "        this.eyecolor = \"blue\"\n",
    "        this.hair_color = \"dark brown\"\n",
    "        this.height = 'tall'\n",
    "\n",
    "    def speaking(this,txt,language=\"urdu\"):\n",
    "         return txt + \" language =\"+language\n"
   ]
  },
  {
   "cell_type": "code",
   "execution_count": 23,
   "metadata": {
    "id": "Nw51045oE3ex"
   },
   "outputs": [],
   "source": [
    "class Child(Father):# inheritance from father class\n",
    "    pass"
   ]
  },
  {
   "cell_type": "code",
   "execution_count": 24,
   "metadata": {
    "colab": {
     "base_uri": "https://localhost:8080/"
    },
    "id": "aV35EKCyFwkq",
    "outputId": "0020e640-3420-4d15-bef9-3089dd67bb0d"
   },
   "outputs": [
    {
     "name": "stdout",
     "output_type": "stream",
     "text": [
      "blue\n",
      "dark brown\n",
      "tall\n"
     ]
    }
   ],
   "source": [
    "p1 = Father()\n",
    "print(p1.eyecolor)\n",
    "print(p1.hair_color)\n",
    "print(p1.height)"
   ]
  },
  {
   "cell_type": "code",
   "execution_count": 25,
   "metadata": {
    "colab": {
     "base_uri": "https://localhost:8080/"
    },
    "id": "1XY_jX9qF82O",
    "outputId": "1b0d2c97-1230-4bf5-fd95-694bfe353165"
   },
   "outputs": [
    {
     "name": "stdout",
     "output_type": "stream",
     "text": [
      "blue\n",
      "dark brown\n",
      "tall\n"
     ]
    }
   ],
   "source": [
    "c1 = Child()\n",
    "print(c1.eyecolor)\n",
    "print(c1.hair_color)\n",
    "print(c1.height)"
   ]
  },
  {
   "cell_type": "code",
   "execution_count": 26,
   "metadata": {
    "id": "BuSkwUOhE8kq"
   },
   "outputs": [],
   "source": [
    "class Father():\n",
    "    def __init__(this):\n",
    "        this.eyecolor = \"blue\"\n",
    "        this.hair_color = \"dark brown\"\n",
    "        this.height = 'tall'\n",
    "\n",
    "    def speaking(this,txt,language=\"urdu\"):\n",
    "        return txt + \" language =\"+language\n",
    "\n",
    "\n",
    "class Mother():\n",
    "     def __init__(this):\n",
    "        this.eyecolor = \"black\"\n",
    "        this.hair_color = \"black\"\n",
    "        this.height = 'Avg'\n",
    "        this.weight = \"50 K\"\n",
    "        this.skin_color = \"Whitish\"\n",
    "\n",
    "    def speaking(this,txt,language=\"Punjabi\"):\n",
    "    return txt + \" language =\"+language\n",
    "\n",
    "\n",
    "class Child(Mother,Father):\n",
    "     pass\n"
   ]
  },
  {
   "cell_type": "code",
   "execution_count": 27,
   "metadata": {
    "colab": {
     "base_uri": "https://localhost:8080/"
    },
    "id": "jlshpb73HDue",
    "outputId": "8ff3e67c-42fa-439f-8f86-9fc5c49f8e79"
   },
   "outputs": [
    {
     "name": "stdout",
     "output_type": "stream",
     "text": [
      "Avg\n",
      "black\n",
      "black\n",
      "Whitish\n",
      "50 K\n",
      "Pakistan zinda bad language =Punjabi\n"
     ]
    }
   ],
   "source": [
    "c1 = Child()\n",
    "print(c1.height)\n",
    "print(c1.hair_color)\n",
    "print(c1.eyecolor)\n",
    "print(c1.skin_color)\n",
    "print(c1.weight)\n",
    "\n",
    "print(c1.speaking(\"Pakistan zinda bad\"))"
   ]
  },
  {
   "cell_type": "code",
   "execution_count": 29,
   "metadata": {
    "id": "Fe_q6PW9A-ON"
   },
   "outputs": [],
   "source": [
    "class Father():\n",
    "    def __init__(this):\n",
    "    this.eyecolor = \"blue\"\n",
    "    this.hair_color = \"dark brown\"\n",
    "    this.height = 'tall'\n",
    "\n",
    "    def speaking(this,txt,language=\"urdu\"):\n",
    "    return txt + \" language =\"+language\n",
    "\n",
    "\n",
    "class Mother():\n",
    "    def __init__(this):\n",
    "    this.eyecolor = \"black\"\n",
    "    this.hair_color = \"black\"\n",
    "    this.height = 'Avg'\n",
    "    this.weight = \"50 K\"\n",
    "    this.skin_color = \"Whitish\"\n",
    "\n",
    "    def speaking(this,txt,language=\"Punjabi\"):\n",
    "    return txt + \" language =\"+language\n",
    "\n",
    "\n",
    "class Child(Father,Mother):\n",
    "    pass\n",
    " "
   ]
  },
  {
   "cell_type": "code",
   "execution_count": 31,
   "metadata": {
    "colab": {
     "base_uri": "https://localhost:8080/"
    },
    "id": "UEN7CvA4Hz06",
    "outputId": "8d19929f-67e1-4264-e058-9de4cc7cc5b5"
   },
   "outputs": [
    {
     "name": "stdout",
     "output_type": "stream",
     "text": [
      "tall\n",
      "dark brown\n",
      "blue\n",
      "Pakistan zinda bad language =urdu\n"
     ]
    }
   ],
   "source": [
    "c1 = Child()\n",
    "print(c1.height)\n",
    "print(c1.hair_color)\n",
    "print(c1.eyecolor)\n",
    "\n",
    "\n",
    "print(c1.speaking(\"Pakistan zinda bad\"))"
   ]
  },
  {
   "cell_type": "code",
   "execution_count": 46,
   "metadata": {
    "colab": {
     "base_uri": "https://localhost:8080/"
    },
    "id": "64mFdmrKV9WA",
    "outputId": "c793eb51-1e41-4e63-e72f-8a5d0714bb48"
   },
   "outputs": [
    {
     "name": "stdout",
     "output_type": "stream",
     "text": [
      "Muhammad Qasim\n",
      "blue\n"
     ]
    }
   ],
   "source": [
    "class Father():\n",
    "    def __init__(this):\n",
    "    this.eyecolor = \"blue\"\n",
    "    this.hair_color = \"dark brown\"\n",
    "    this.height = 'tall'\n",
    "\n",
    "    def speaking(this,txt,language=\"urdu\"):\n",
    "    return txt + \" language =\"+language\n",
    "\n",
    "\n",
    "class Mother():\n",
    "    def __init__(this):\n",
    "    this.eyecolor = \"black\"\n",
    "    this.hair_color = \"black\"\n",
    "    this.height = 'Avg'\n",
    "    this.weight = \"50 K\"\n",
    "    this.skin_color = \"Whitish\"\n",
    " \n",
    "   def speaking(this,txt,language=\"Punjabi\"):\n",
    "    return txt + \" language =\"+language\n",
    "\n",
    "\n",
    "class Child(Father,Mother):\n",
    "    def __init__(self,id,name):\n",
    "    super().__init__()# call parents class constructor\n",
    "    self.id = id\n",
    "    self.name = name\n",
    "    \n",
    "\n",
    "c1 = Child(1,\"Muhammad Qasim\")\n",
    "print(c1.name)\n",
    "print(c1.eyecolor)"
   ]
  },
  {
   "cell_type": "code",
   "execution_count": 47,
   "metadata": {
    "colab": {
     "base_uri": "https://localhost:8080/",
     "height": 36
    },
    "id": "5FUEVFd0V9ag",
    "outputId": "6ab00f35-b53b-4dbd-a618-5e55de807493"
   },
   "outputs": [
    {
     "data": {
      "application/vnd.google.colaboratory.intrinsic+json": {
       "type": "string"
      },
      "text/plain": [
       "'Pakistan language =urdu'"
      ]
     },
     "execution_count": 47,
     "metadata": {},
     "output_type": "execute_result"
    }
   ],
   "source": [
    "c1.speaking(\"Pakistan\")"
   ]
  },
  {
   "cell_type": "code",
   "execution_count": 48,
   "metadata": {
    "colab": {
     "base_uri": "https://localhost:8080/"
    },
    "id": "kSdEpuFKV9dS",
    "outputId": "d0d78ca6-747d-40d2-86c7-6239edad5d54"
   },
   "outputs": [
    {
     "name": "stdout",
     "output_type": "stream",
     "text": [
      "SINGLA ELECTRONICS\n",
      "DELL Inspiron 15\n",
      "Redmi Note 5\n"
     ]
    }
   ],
   "source": [
    "class Electronics:\n",
    "    def __init__(self):\n",
    "\t\tprint('SINGLA ELECTRONICS')\n",
    "\t\tself.laptop=self.Laptop()\n",
    "\t\tself.mobile=self.Mobile()\n",
    "\t\t\n",
    "\t# Inner Class 1\n",
    "\tclass Laptop:\n",
    "\t\tdef operation(self):\n",
    "\t\t\tprint('DELL Inspiron 15')\n",
    "\t\t\t\n",
    "\t# Inner Class 2\n",
    "\tclass Mobile:\n",
    "\t\tdef operation(self):\n",
    "\t\t\tprint('Redmi Note 5')\n",
    "\t\t\t\n",
    "# Driver Code\n",
    "ele = Electronics()\n",
    "ele.laptop.operation()\n",
    "ele.mobile.operation()\n"
   ]
  },
  {
   "cell_type": "markdown",
   "metadata": {
    "id": "zR7XxhcdV9gt"
   },
   "source": [
    "\n",
    "# Class Method"
   ]
  },
  {
   "cell_type": "code",
   "execution_count": null,
   "metadata": {},
   "outputs": [],
   "source": [
    "class Employee():\n",
    "    Salary = 1000\n",
    "    Location = \"Hyderabad\"\n",
    "    company = \"youtube\"\n",
    "    \n",
    "    @classmethod\n",
    "    def changeSalary(cls, sal):\n",
    "        cls.salary = sal\n",
    "\n",
    "        "
   ]
  },
  {
   "cell_type": "markdown",
   "metadata": {
    "id": "tmb0aAIiIlw9"
   },
   "source": [
    "# Polymorphism\n",
    "* if same metods or operators performe multi behaviours with different data types of argument is call overloading\n",
    "* "
   ]
  },
  {
   "cell_type": "code",
   "execution_count": null,
   "metadata": {
    "id": "HsYyx7MgIoq1"
   },
   "outputs": [],
   "source": [
    "# overload (old language conncept)\n",
    "# same function create multiple time with different arguments(args) data types with a class\n",
    "def add_two_number(float num1, float numb2 ):\n",
    "def add_two_number(int num1, int numb2 ):\n",
    "def add_two_number(float num1, int numb2 ):\n",
    "def add_two_number(int num1, float numb2 ):"
   ]
  },
  {
   "cell_type": "code",
   "execution_count": 33,
   "metadata": {
    "colab": {
     "base_uri": "https://localhost:8080/"
    },
    "id": "kJ2ifGQvIkZV",
    "outputId": "2cda84a4-e133-4388-955f-5e9c2d0a2ae0"
   },
   "outputs": [
    {
     "name": "stdout",
     "output_type": "stream",
     "text": [
      "3\n",
      "21\n",
      "3.9\n"
     ]
    }
   ],
   "source": [
    "# python\n",
    "# overloading\n",
    "class MyMaths():\n",
    "    def __init__(self):\n",
    "    pass\n",
    "  \n",
    "    def my_sum(self,*num): # Overloading\n",
    "    return sum(num)\n",
    "\n",
    "\n",
    "obj1 = MyMaths()\n",
    "print(obj1.my_sum(1,2))\n",
    "print(obj1.my_sum(1,2,3,3,3,5,4))\n",
    "print(obj1.my_sum(1.9, 2))\n"
   ]
  },
  {
   "cell_type": "markdown",
   "metadata": {
    "id": "kxX96aYAT7VF"
   },
   "source": [
    "# overriding"
   ]
  },
  {
   "cell_type": "code",
   "execution_count": 34,
   "metadata": {
    "colab": {
     "base_uri": "https://localhost:8080/"
    },
    "id": "BQY-yZ0WH3yV",
    "outputId": "0eaf751e-8444-4676-eef1-824ab5f14929"
   },
   "outputs": [
    {
     "name": "stdout",
     "output_type": "stream",
     "text": [
      "Pakistan zinda bad!Urdu\n",
      "Pakistan zinda bad!English\n"
     ]
    }
   ],
   "source": [
    "class A():\n",
    "    def __init__(self):\n",
    "    pass\n",
    "\n",
    "  def speaking(self,message): # \n",
    "    return message + \"Urdu\"\n",
    "\n",
    "class B(A):\n",
    "    def __init__(self):\n",
    "    pass\n",
    "\n",
    "  def speaking(self,message): #overriding\n",
    "    return message + \"English\"\n",
    "\n",
    "a = A()\n",
    "b = B()\n",
    "\n",
    "print(a.speaking(\"Pakistan zinda bad!\"))\n",
    "print(b.speaking(\"Pakistan zinda bad!\"))"
   ]
  },
  {
   "cell_type": "code",
   "execution_count": 51,
   "metadata": {
    "id": "z0nwY7NgU4jF"
   },
   "outputs": [
    {
     "name": "stdout",
     "output_type": "stream",
     "text": [
      "This is Programmer\n",
      "This is programming language  python \n"
     ]
    }
   ],
   "source": [
    "class Employee():\n",
    "    company = \"Google\"#company is attribute\n",
    "    \n",
    "    def showDetail(self):\n",
    "        print(\"This is an Employee\")\n",
    "\n",
    "class programmer(Employee):\n",
    "    language = \"python\"\n",
    "    \n",
    "    def getLanguage(self):\n",
    "        print(f\"This is programming language  {self.language} \")\n",
    "        \n",
    "    def showDetail(self):\n",
    "        print(\"This is Programmer\")\n",
    "\n",
    "        \n",
    "e=Employee()\n",
    "p=programmer()\n",
    "# e.showDetail()\n",
    "p.showDetail()\n",
    "p.getLanguage()\n",
    "        "
   ]
  },
  {
   "cell_type": "markdown",
   "metadata": {
    "id": "5As3vvzybAUn"
   },
   "source": [
    "# Encapsulation\n",
    "* make any method or attribut as private\n",
    "  * __ you can assign double under score before method/attribute\n",
    "  * not publicly accessable \n",
    "  * protected\n",
    "  * we change this value through \"Setter function\"\n",
    "  * We can access this information with \"Getter function\""
   ]
  },
  {
   "cell_type": "code",
   "execution_count": 66,
   "metadata": {
    "colab": {
     "base_uri": "https://localhost:8080/"
    },
    "id": "wWHD-azLbCIV",
    "outputId": "b1c1a32e-8657-40db-f3ab-caba35cb0073"
   },
   "outputs": [
    {
     "name": "stdout",
     "output_type": "stream",
     "text": [
      "MSDS\n"
     ]
    }
   ],
   "source": [
    "class Student():\n",
    "    def __init__(self,id,name):\n",
    "    self.__id = id # private\n",
    "    self.__name = name # private\n",
    "    self.education = \"MSDS\"\n",
    "\n",
    "\n",
    "s1 = Student(1,\"Muhammad Qasim\")\n",
    "print(s1.education)\n",
    "# print(s1.name)\n"
   ]
  },
  {
   "cell_type": "code",
   "execution_count": 67,
   "metadata": {
    "colab": {
     "base_uri": "https://localhost:8080/",
     "height": 169
    },
    "id": "-Up8OP9IdjRT",
    "outputId": "b5e2d643-117a-4b70-bb9b-ff436c5abef9"
   },
   "outputs": [
    {
     "ename": "AttributeError",
     "evalue": "ignored",
     "output_type": "error",
     "traceback": [
      "\u001b[0;31m---------------------------------------------------------------------------\u001b[0m",
      "\u001b[0;31mAttributeError\u001b[0m                            Traceback (most recent call last)",
      "\u001b[0;32m<ipython-input-67-bfa1764dcbdc>\u001b[0m in \u001b[0;36m<module>\u001b[0;34m\u001b[0m\n\u001b[0;32m----> 1\u001b[0;31m \u001b[0ms1\u001b[0m\u001b[0;34m.\u001b[0m\u001b[0mname\u001b[0m\u001b[0;34m\u001b[0m\u001b[0;34m\u001b[0m\u001b[0m\n\u001b[0m",
      "\u001b[0;31mAttributeError\u001b[0m: 'Student' object has no attribute 'name'"
     ]
    }
   ],
   "source": [
    "s1.name"
   ]
  },
  {
   "cell_type": "code",
   "execution_count": 63,
   "metadata": {
    "colab": {
     "base_uri": "https://localhost:8080/",
     "height": 169
    },
    "id": "kMisqWBOcbyY",
    "outputId": "e0e79128-c21a-43a3-ae92-47284a6fa66d"
   },
   "outputs": [
    {
     "ename": "AttributeError",
     "evalue": "ignored",
     "output_type": "error",
     "traceback": [
      "\u001b[0;31m---------------------------------------------------------------------------\u001b[0m",
      "\u001b[0;31mAttributeError\u001b[0m                            Traceback (most recent call last)",
      "\u001b[0;32m<ipython-input-63-04dad977536f>\u001b[0m in \u001b[0;36m<module>\u001b[0;34m\u001b[0m\n\u001b[0;32m----> 1\u001b[0;31m \u001b[0ms1\u001b[0m\u001b[0;34m.\u001b[0m\u001b[0m__name\u001b[0m\u001b[0;34m\u001b[0m\u001b[0;34m\u001b[0m\u001b[0m\n\u001b[0m",
      "\u001b[0;31mAttributeError\u001b[0m: 'Student' object has no attribute '__name'"
     ]
    }
   ],
   "source": [
    "s1.__name"
   ]
  },
  {
   "cell_type": "code",
   "execution_count": 72,
   "metadata": {
    "colab": {
     "base_uri": "https://localhost:8080/"
    },
    "id": "0huubrn9cz8M",
    "outputId": "7aa978ca-db2c-498d-ebd9-c64288329f15"
   },
   "outputs": [
    {
     "name": "stdout",
     "output_type": "stream",
     "text": [
      "Muhammad Qasim\n"
     ]
    }
   ],
   "source": [
    "#    obj._ClassName__privateattribute\n",
    "print(s1._Student__name)"
   ]
  },
  {
   "cell_type": "code",
   "execution_count": 65,
   "metadata": {
    "colab": {
     "base_uri": "https://localhost:8080/"
    },
    "id": "5p9f9fIIc3I3",
    "outputId": "39e3b7d1-9768-4274-9022-109ed9afc8ec"
   },
   "outputs": [
    {
     "name": "stdout",
     "output_type": "stream",
     "text": [
      "Muhammad Aslam\n"
     ]
    }
   ],
   "source": [
    "s1.fname = \"Muhammad Aslam\"\n",
    "print(s1.fname)"
   ]
  },
  {
   "cell_type": "markdown",
   "metadata": {
    "id": "T07eyl-sg3vm"
   },
   "source": [
    "# Abstraction"
   ]
  },
  {
   "cell_type": "code",
   "execution_count": 73,
   "metadata": {
    "id": "gEwM6yb3g_0g"
   },
   "outputs": [],
   "source": [
    "from abc import ABC, abstractmethod"
   ]
  },
  {
   "cell_type": "code",
   "execution_count": 75,
   "metadata": {
    "id": "bCuj7Z2udU-_"
   },
   "outputs": [],
   "source": [
    "class Human(ABC):\n",
    "    def __init__(self,name,age):\n",
    "    self.name= name\n",
    "    self.age = age\n",
    "\n",
    "    @abstractmethod # decorator\n",
    "    def display(self):\n",
    "    return f\"Student name: {self.name},\\n {self.age} old.\"\n",
    "\n"
   ]
  },
  {
   "cell_type": "code",
   "execution_count": 76,
   "metadata": {
    "colab": {
     "base_uri": "https://localhost:8080/",
     "height": 169
    },
    "id": "C71M3gT6h_TJ",
    "outputId": "e387bda4-1f59-4fe9-b3e7-e5086d327b4e"
   },
   "outputs": [
    {
     "ename": "TypeError",
     "evalue": "ignored",
     "output_type": "error",
     "traceback": [
      "\u001b[0;31m---------------------------------------------------------------------------\u001b[0m",
      "\u001b[0;31mTypeError\u001b[0m                                 Traceback (most recent call last)",
      "\u001b[0;32m<ipython-input-76-665979cd1f3c>\u001b[0m in \u001b[0;36m<module>\u001b[0;34m\u001b[0m\n\u001b[0;32m----> 1\u001b[0;31m \u001b[0mh1\u001b[0m \u001b[0;34m=\u001b[0m \u001b[0mHuman\u001b[0m\u001b[0;34m(\u001b[0m\u001b[0;34m)\u001b[0m\u001b[0;34m\u001b[0m\u001b[0;34m\u001b[0m\u001b[0m\n\u001b[0m",
      "\u001b[0;31mTypeError\u001b[0m: Can't instantiate abstract class Human with abstract methods display"
     ]
    }
   ],
   "source": [
    "h1 = Human()"
   ]
  },
  {
   "cell_type": "code",
   "execution_count": 86,
   "metadata": {
    "colab": {
     "base_uri": "https://localhost:8080/",
     "height": 36
    },
    "id": "LaQ1bDBVh1_z",
    "outputId": "ffc42d57-542b-4849-a309-86889285e02a"
   },
   "outputs": [
    {
     "data": {
      "application/vnd.google.colaboratory.intrinsic+json": {
       "type": "string"
      },
      "text/plain": [
       "'Student name: Muhammad Qasim,\\n 30 old.'"
      ]
     },
     "execution_count": 86,
     "metadata": {},
     "output_type": "execute_result"
    }
   ],
   "source": [
    "class Human(ABC):\n",
    "    def __init__(self,name,age):\n",
    "    self.name= name\n",
    "    self.age = age\n",
    "    @abstractmethod\n",
    "    def display(self):\n",
    "    return f\"Student name: {self.name},\\n {self.age} old.\"\n",
    "\n",
    "\n",
    "class Male(Human):\n",
    "    def __init__(self,name,age):\n",
    "    super().__init__(name,age)\n",
    "    self.education = None\n",
    "    self.eyecolor = None\n",
    "    def display(self):\n",
    "    return f\"Student name: {self.name},\\n {self.age} old.\"\n",
    "\n",
    "m1 = Male(\"Muhammad Qasim\",30)\n",
    "m1.display()"
   ]
  },
  {
   "cell_type": "code",
   "execution_count": 82,
   "metadata": {
    "colab": {
     "base_uri": "https://localhost:8080/"
    },
    "id": "27TE8iXqiqcH",
    "outputId": "a5db5833-f628-453c-8766-1bebd4528e43"
   },
   "outputs": [
    {
     "name": "stdout",
     "output_type": "stream",
     "text": [
      "I have 3 sides\n",
      "I have 4 sides\n",
      "I have 5 sides\n",
      "I have 6 sides\n"
     ]
    }
   ],
   "source": [
    "# Python program showing\n",
    "# abstract base class work\n",
    "\n",
    "from abc import ABC, abstractmethod\n",
    "\n",
    "class Polygon(ABC):\n",
    "\n",
    "\t@abstractmethod\n",
    "\tdef noofsides(self):\n",
    "\t\tpass\n",
    "\n",
    "class Triangle(Polygon):\n",
    "\n",
    "\t# overriding abstract method\n",
    "\tdef noofsides(self):\n",
    "\t\tprint(\"I have 3 sides\")\n",
    "\n",
    "class Pentagon(Polygon):\n",
    "\n",
    "\t# overriding abstract method\n",
    "\tdef noofsides(self):\n",
    "\t\tprint(\"I have 5 sides\")\n",
    "\n",
    "class Hexagon(Polygon):\n",
    "\n",
    "\t# overriding abstract method\n",
    "\tdef noofsides(self):\n",
    "\t\tprint(\"I have 6 sides\")\n",
    "\n",
    "class Quadrilateral(Polygon):\n",
    "\n",
    "\t# overriding abstract method\n",
    "\tdef noofsides(self):\n",
    "\t\tprint(\"I have 4 sides\")\n",
    "\n",
    "# Driver code\n",
    "R = Triangle()\n",
    "R.noofsides()\n",
    "\n",
    "K = Quadrilateral()\n",
    "K.noofsides()\n",
    "\n",
    "R = Pentagon()\n",
    "R.noofsides()\n",
    "\n",
    "K = Hexagon()\n",
    "K.noofsides()\n"
   ]
  },
  {
   "cell_type": "code",
   "execution_count": 83,
   "metadata": {
    "colab": {
     "base_uri": "https://localhost:8080/",
     "height": 169
    },
    "id": "tLqsuHVMjvbV",
    "outputId": "b0247692-1a6a-472a-e888-b54a1d56e934"
   },
   "outputs": [
    {
     "ename": "TypeError",
     "evalue": "ignored",
     "output_type": "error",
     "traceback": [
      "\u001b[0;31m---------------------------------------------------------------------------\u001b[0m",
      "\u001b[0;31mTypeError\u001b[0m                                 Traceback (most recent call last)",
      "\u001b[0;32m<ipython-input-83-dcc9968c038d>\u001b[0m in \u001b[0;36m<module>\u001b[0;34m\u001b[0m\n\u001b[0;32m----> 1\u001b[0;31m \u001b[0mp\u001b[0m \u001b[0;34m=\u001b[0m \u001b[0mPolygon\u001b[0m\u001b[0;34m(\u001b[0m\u001b[0;34m)\u001b[0m\u001b[0;34m\u001b[0m\u001b[0;34m\u001b[0m\u001b[0m\n\u001b[0m",
      "\u001b[0;31mTypeError\u001b[0m: Can't instantiate abstract class Polygon with abstract methods noofsides"
     ]
    }
   ],
   "source": [
    "p = Polygon()"
   ]
  }
 ],
 "metadata": {
  "colab": {
   "provenance": []
  },
  "kernelspec": {
   "display_name": "Python 3 (ipykernel)",
   "language": "python",
   "name": "python3"
  },
  "language_info": {
   "codemirror_mode": {
    "name": "ipython",
    "version": 3
   },
   "file_extension": ".py",
   "mimetype": "text/x-python",
   "name": "python",
   "nbconvert_exporter": "python",
   "pygments_lexer": "ipython3",
   "version": "3.9.12"
  }
 },
 "nbformat": 4,
 "nbformat_minor": 1
}
